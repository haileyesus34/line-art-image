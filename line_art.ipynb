{
 "cells": [
  {
   "cell_type": "code",
   "execution_count": 1,
   "metadata": {},
   "outputs": [],
   "source": [
    "import cv2\n",
    "import numpy as np\n",
    "\n",
    "def convert_to_line_art(image_path, output_path):\n",
    "    # Step 1: Read the image\n",
    "    img = cv2.imread(image_path)\n",
    "\n",
    "    # Step 2: Convert to grayscale\n",
    "    gray = cv2.cvtColor(img, cv2.COLOR_BGR2GRAY)\n",
    "\n",
    "    # Step 3: Apply GaussianBlur to reduce noise\n",
    "    blurred = cv2.GaussianBlur(gray, (5, 5), 0)\n",
    "\n",
    "    # Step 4: Use Canny edge detection to detect edges\n",
    "    edges = cv2.Canny(blurred, threshold1=50, threshold2=150)\n",
    "\n",
    "    # Step 5: Invert the edges image to get line art effect\n",
    "    line_art = cv2.bitwise_not(edges)\n",
    "\n",
    "    # Step 6: Save the result\n",
    "    cv2.imwrite(output_path, line_art)\n",
    "\n",
    "# Example usage\n",
    "input_image = '/Users/hanna m/machinelearning/deep_learning/cv/image_to_art/photo_to_art.jpg'\n",
    "output_image = '/Users/hanna m/machinelearning/deep_learning/cv/image_to_art/photo_to_art2.jpg'\n",
    "convert_to_line_art(input_image, output_image)\n"
   ]
  },
  {
   "cell_type": "code",
   "execution_count": null,
   "metadata": {},
   "outputs": [],
   "source": []
  }
 ],
 "metadata": {
  "kernelspec": {
   "display_name": "Python 3",
   "language": "python",
   "name": "python3"
  },
  "language_info": {
   "codemirror_mode": {
    "name": "ipython",
    "version": 3
   },
   "file_extension": ".py",
   "mimetype": "text/x-python",
   "name": "python",
   "nbconvert_exporter": "python",
   "pygments_lexer": "ipython3",
   "version": "3.12.4"
  }
 },
 "nbformat": 4,
 "nbformat_minor": 2
}
